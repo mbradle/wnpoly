{
 "cells": [
  {
   "cell_type": "markdown",
   "metadata": {},
   "source": [
    "The aim of this notebook is to illustrate the usage of *wnpoly*.  Begin by installing the package."
   ]
  },
  {
   "cell_type": "code",
   "execution_count": 1,
   "metadata": {},
   "outputs": [],
   "source": [
    "import sys\n",
    "#!{sys.executable} -m pip install --quiet wnpoly"
   ]
  },
  {
   "cell_type": "markdown",
   "metadata": {},
   "source": [
    "Next import the packages."
   ]
  },
  {
   "cell_type": "code",
   "execution_count": 2,
   "metadata": {},
   "outputs": [],
   "source": [
    "import numpy as np\n",
    "import wnpoly as wp"
   ]
  },
  {
   "cell_type": "markdown",
   "metadata": {},
   "source": [
    "*wnpoly* currently has two modules.  The first handles [Symmetric polynomials](#symmetric), which are polynomials that remain unchanged under exchange of any variables.  This [Wikipedia page](https://en.wikipedia.org/wiki/Symmetric_polynomial) provides an introduction.  The second handles [Bell polynomials](#bell), which appear particularly in problems involving [set partitions](https://en.wikipedia.org/wiki/Bell_polynomials)."
   ]
  },
  {
   "cell_type": "markdown",
   "metadata": {},
   "source": [
    "<a id='symmetric'></a>\n",
    "# Symmetric polynomials"
   ]
  },
  {
   "cell_type": "markdown",
   "metadata": {},
   "source": [
    "This section illustrates *wnpoly's* symmetric polynomial classes, which include [complete homogeneous symmetric](https://en.wikipedia.org/wiki/Complete_homogeneous_symmetric_polynomial), [elementary homogeneous symmetric](https://en.wikipedia.org/wiki/Elementary_symmetric_polynomial), and [power sum symmetric](https://en.wikipedia.org/wiki/Power_sum_symmetric_polynomial) polynomials.\n",
    "\n",
    "Begin by creating instances of each class."
   ]
  },
  {
   "cell_type": "code",
   "execution_count": 3,
   "metadata": {},
   "outputs": [],
   "source": [
    "chsp = wp.symm.Complete()\n",
    "ehsp = wp.symm.Elementary()\n",
    "pssp = wp.symm.PowerSum()"
   ]
  },
  {
   "cell_type": "markdown",
   "metadata": {},
   "source": [
    "Now create a set of variables *x*.  Here we choose a set of ten randomly chosen integers between 1 and 10.  By definition, *x[0]* should equal 0, so we insert that at the beginning of the array; thus, the array has 11 elements with index ranging from 0 to 10.  In fact, the *wnpoly* routines do not use *x[0]* in computations but rather use it as a placeholder to allow the index of the array to correspond to the expected *x* or polynomial."
   ]
  },
  {
   "cell_type": "code",
   "execution_count": 4,
   "metadata": {},
   "outputs": [],
   "source": [
    "n = 10\n",
    "x = np.random.default_rng().integers(1, high=10, size=n)"
   ]
  },
  {
   "cell_type": "markdown",
   "metadata": {},
   "source": [
    "Now compute the corresponding set of polynomials of the various types up to order *n*."
   ]
  },
  {
   "cell_type": "code",
   "execution_count": 5,
   "metadata": {},
   "outputs": [],
   "source": [
    "h = chsp.compute(x, n)\n",
    "e = ehsp.compute(x, n)\n",
    "p = pssp.compute(x, n)"
   ]
  },
  {
   "cell_type": "markdown",
   "metadata": {},
   "source": [
    "Print out the values and the *x*'s.  Insert an extra zero at the beginning of the *x* array to align with the polynomials in the printout."
   ]
  },
  {
   "cell_type": "code",
   "execution_count": 6,
   "metadata": {},
   "outputs": [
    {
     "name": "stdout",
     "output_type": "stream",
     "text": [
      "n = 0, x[n] = 0, h[n] = 1, e[n] = 1, p[n] = 1\n",
      "n = 1, x[n] = 3, h[n] = 57, e[n] = 57, p[n] = 57\n",
      "n = 2, x[n] = 3, h[n] = 1818, e[n] = 1431, p[n] = 387\n",
      "n = 3, x[n] = 3, h[n] = 42872, e[n] = 20813, p[n] = 2931\n",
      "n = 4, x[n] = 9, h[n] = 834474, e[n] = 194013, p[n] = 23559\n",
      "n = 5, x[n] = 8, h[n] = 14204682, e[n] = 1210203, p[n] = 195507\n",
      "n = 6, x[n] = 8, h[n] = 218982112, e[n] = 5113341, p[n] = 1652367\n",
      "n = 7, x[n] = 5, h[n] = 3128400108, e[n] = 14449023, p[n] = 14127051\n",
      "n = 8, x[n] = 6, h[n] = 42083868123, e[n] = 26141454, p[n] = 121744359\n",
      "n = 9, x[n] = 9, h[n] = 539291064203, e[n] = 27363744, p[n] = 1055385987\n",
      "n = 10, x[n] = 3, h[n] = 6640669467690, e[n] = 12597120, p[n] = 9191520447\n"
     ]
    }
   ],
   "source": [
    "x = np.insert(x, 0, 0)\n",
    "\n",
    "for n in range(len(x)):\n",
    "    print(\"n = {:d}, x[n] = {:}, h[n] = {:d}, e[n] = {:d}, p[n] = {:d}\".format(n, x[n], h[n], e[n], p[n]))"
   ]
  },
  {
   "cell_type": "markdown",
   "metadata": {},
   "source": [
    "We can now check some of [Newton's identities](https://en.wikipedia.org/wiki/Newton%27s_identities).  The first we will check relates the complete and elementary polynomials such that $d_n = \\sum_{k = 0}^n (-1)^k h_{n-k}(x_1, ..., x_n) e_k(x_1, ..., x_n) = 0$."
   ]
  },
  {
   "cell_type": "code",
   "execution_count": 7,
   "metadata": {},
   "outputs": [
    {
     "name": "stdout",
     "output_type": "stream",
     "text": [
      "n = 1, d[n] = 0\n",
      "n = 2, d[n] = 0\n",
      "n = 3, d[n] = 0\n",
      "n = 4, d[n] = 0\n",
      "n = 5, d[n] = 0\n",
      "n = 6, d[n] = 0\n",
      "n = 7, d[n] = 0\n",
      "n = 8, d[n] = 0\n",
      "n = 9, d[n] = 0\n",
      "n = 10, d[n] = 0\n"
     ]
    }
   ],
   "source": [
    "for n in range(1, len(x)):\n",
    "    d = 0\n",
    "    for k in range(n+1):\n",
    "        d += np.power(-1, k) * h[n-k] * e[k]\n",
    "    print(\"n = {:d}, d[n] = {:d}\".format(n, d))"
   ]
  },
  {
   "cell_type": "markdown",
   "metadata": {},
   "source": [
    "Now we check an identity relating the complete homogeneous symmetric and power sum symmetric polynomials, namely, that $nh_n = \\sum_{k=1}^n h_{n-k} p_k$."
   ]
  },
  {
   "cell_type": "code",
   "execution_count": 8,
   "metadata": {},
   "outputs": [
    {
     "name": "stdout",
     "output_type": "stream",
     "text": [
      "n = 1, n*h[n] = 57, sum = 57, difference = 0\n",
      "n = 2, n*h[n] = 3636, sum = 3636, difference = 0\n",
      "n = 3, n*h[n] = 128616, sum = 128616, difference = 0\n",
      "n = 4, n*h[n] = 3337896, sum = 3337896, difference = 0\n",
      "n = 5, n*h[n] = 71023410, sum = 71023410, difference = 0\n",
      "n = 6, n*h[n] = 1313892672, sum = 1313892672, difference = 0\n",
      "n = 7, n*h[n] = 21898800756, sum = 21898800756, difference = 0\n",
      "n = 8, n*h[n] = 336670944984, sum = 336670944984, difference = 0\n",
      "n = 9, n*h[n] = 4853619577827, sum = 4853619577827, difference = 0\n",
      "n = 10, n*h[n] = 66406694676900, sum = 66406694676900, difference = 0\n"
     ]
    }
   ],
   "source": [
    "for n in range(1, len(x)):\n",
    "    sum = 0\n",
    "    for k in range(1, n+1):\n",
    "        sum += h[n-k] * p[k]\n",
    "    print(\n",
    "        \"n = {:d}, n*h[n] = {:d}, sum = {:d}, difference = {:d}\".format(\n",
    "            n, n*h[n], sum, n*h[n] - sum)\n",
    "    )"
   ]
  },
  {
   "cell_type": "markdown",
   "metadata": {},
   "source": [
    "Finally, we will check the identity that $n e_n = \\sum_{k=1}^n (-1)^{k-1} e_{n-k} p_k$."
   ]
  },
  {
   "cell_type": "code",
   "execution_count": 9,
   "metadata": {},
   "outputs": [
    {
     "name": "stdout",
     "output_type": "stream",
     "text": [
      "n = 1, n*e[n] = 57, sum = 57, difference = 0\n",
      "n = 2, n*e[n] = 2862, sum = 2862, difference = 0\n",
      "n = 3, n*e[n] = 62439, sum = 62439, difference = 0\n",
      "n = 4, n*e[n] = 776052, sum = 776052, difference = 0\n",
      "n = 5, n*e[n] = 6051015, sum = 6051015, difference = 0\n",
      "n = 6, n*e[n] = 30680046, sum = 30680046, difference = 0\n",
      "n = 7, n*e[n] = 101143161, sum = 101143161, difference = 0\n",
      "n = 8, n*e[n] = 209131632, sum = 209131632, difference = 0\n",
      "n = 9, n*e[n] = 246273696, sum = 246273696, difference = 0\n",
      "n = 10, n*e[n] = 125971200, sum = 125971200, difference = 0\n"
     ]
    }
   ],
   "source": [
    "for n in range(1, len(x)):\n",
    "    sum = 0\n",
    "    for k in range(1, n+1):\n",
    "        sum += np.power(-1, k-1) * e[n-k] * p[k]\n",
    "    print(\n",
    "        \"n = {:d}, n*e[n] = {:d}, sum = {:d}, difference = {:d}\".format(\n",
    "            n, n*e[n], sum, n*e[n] - sum)\n",
    "    )"
   ]
  },
  {
   "cell_type": "markdown",
   "metadata": {},
   "source": [
    "It is also possible to compute the symmetric polynomials normalized by the number of terms in each polynomial.  Here one should not use integers but rather floats or similar type.  "
   ]
  },
  {
   "cell_type": "code",
   "execution_count": 10,
   "metadata": {},
   "outputs": [],
   "source": [
    "n = 5\n",
    "x = np.random.default_rng().uniform(0.0, 10.0, size=n)"
   ]
  },
  {
   "cell_type": "markdown",
   "metadata": {},
   "source": [
    "Now compute and print out the normalized polynomials.  Again insert a zero at the beginning of *x* to align the *x*'s with the polynomials in the printout."
   ]
  },
  {
   "cell_type": "code",
   "execution_count": 11,
   "metadata": {},
   "outputs": [
    {
     "name": "stdout",
     "output_type": "stream",
     "text": [
      "n = 0, x[n] = 0.0000, h_norm[n] = 1.0000, e_norm[n] = 1.0000, p_norm[n] = 1.0000\n",
      "n = 1, x[n] = 4.9076, h_norm[n] = 4.3151, e_norm[n] = 4.3151, p_norm[n] = 4.3151\n",
      "n = 2, x[n] = 2.7287, h_norm[n] = 19.9838, e_norm[n] = 16.5756, p_norm[n] = 26.8002\n",
      "n = 3, x[n] = 0.0965, h_norm[n] = 98.0797, e_norm[n] = 54.1619, p_norm[n] = 187.9432\n",
      "n = 4, x[n] = 5.0984, h_norm[n] = 505.9507, e_norm[n] = 129.5516, p_norm[n] = 1431.6878\n",
      "n = 5, x[n] = 8.7446, h_norm[n] = 2726.7378, e_norm[n] = 57.5893, p_norm[n] = 11514.9185\n"
     ]
    }
   ],
   "source": [
    "h_norm = chsp.compute_normalized(x, n)\n",
    "e_norm = ehsp.compute_normalized(x, n)\n",
    "p_norm = pssp.compute_normalized(x, n)\n",
    "\n",
    "x = np.insert(x, 0, 0.)\n",
    "\n",
    "for n in range(len(x)):\n",
    "    print(\n",
    "        \"n = {:d}, x[n] = {:.4f}, h_norm[n] = {:.4f}, e_norm[n] = {:.4f}, p_norm[n] = {:.4f}\".format(\n",
    "        n, x[n], h_norm[n], e_norm[n], p_norm[n]))"
   ]
  },
  {
   "cell_type": "markdown",
   "metadata": {},
   "source": [
    "<a id='bell'></a>\n",
    "# Bell polynomials"
   ]
  },
  {
   "cell_type": "markdown",
   "metadata": {},
   "source": [
    "This section illustrates *wnpoly's* Bell polynomial module.  The module has a class for complete and partial Bell polynomials."
   ]
  },
  {
   "cell_type": "markdown",
   "metadata": {},
   "source": [
    "Begin by creating an instance of the Bell polynomial class."
   ]
  },
  {
   "cell_type": "code",
   "execution_count": 12,
   "metadata": {},
   "outputs": [],
   "source": [
    "my_bell = wp.bell.Bell()"
   ]
  },
  {
   "cell_type": "markdown",
   "metadata": {},
   "source": [
    "Now generate some Bell polynomials.  By definition, $B_0 = 1$, so insert that."
   ]
  },
  {
   "cell_type": "code",
   "execution_count": 13,
   "metadata": {},
   "outputs": [],
   "source": [
    "n = 5\n",
    "b = np.random.default_rng().uniform(low=1, high=10, size=n)\n",
    "b = np.insert(b, 0, 1.)"
   ]
  },
  {
   "cell_type": "markdown",
   "metadata": {},
   "source": [
    "Now invert the Bell polynomials to find the *x's* that would give rise to those Bell polynomials."
   ]
  },
  {
   "cell_type": "code",
   "execution_count": 14,
   "metadata": {},
   "outputs": [],
   "source": [
    "x = my_bell.invert(b)"
   ]
  },
  {
   "cell_type": "markdown",
   "metadata": {},
   "source": [
    "Compute the Bell polynomials from those *x's* and use them to compute the Bell polynomials.  Compare the computed polynomials to the original ones."
   ]
  },
  {
   "cell_type": "code",
   "execution_count": 15,
   "metadata": {},
   "outputs": [
    {
     "name": "stdout",
     "output_type": "stream",
     "text": [
      "n = 0, x[n] = 0.000000e+00, b[n] = 1.000000e+00, bc[n] = 1.000000e+00\n",
      "n = 1, x[n] = 1.072257e+00, b[n] = 1.072257e+00, bc[n] = 1.072257e+00\n",
      "n = 2, x[n] = 2.279357e+00, b[n] = 3.429091e+00, bc[n] = 3.429091e+00\n",
      "n = 3, x[n] = 8.367072e-01, b[n] = 9.401685e+00, bc[n] = 9.401685e+00\n",
      "n = 4, x[n] = -2.941653e+01, b[n] = 6.804352e+00, bc[n] = 6.804352e+00\n",
      "n = 5, x[n] = 2.035793e+01, b[n] = 4.419698e+00, bc[n] = 4.419698e+00\n"
     ]
    }
   ],
   "source": [
    "bc = my_bell.compute(x)\n",
    "\n",
    "for n in range(len(x)):\n",
    "    print(\n",
    "        \"n = {:d}, x[n] = {:.6e}, b[n] = {:.6e}, bc[n] = {:.6e}\".format(\n",
    "            n, x[n], b[n], bc[n]\n",
    "        )\n",
    "    )"
   ]
  },
  {
   "cell_type": "markdown",
   "metadata": {},
   "source": [
    "Now we study the partial Bell polynomial class.  First create an instance."
   ]
  },
  {
   "cell_type": "code",
   "execution_count": 16,
   "metadata": {},
   "outputs": [],
   "source": [
    "my_partial_bell = wp.bell.PartialBell()"
   ]
  },
  {
   "cell_type": "markdown",
   "metadata": {},
   "source": [
    "Now compute the partial Bell polynomials from the *x's* above.  The return is a two-dimensional array with the indices *n* and *k* giving $B_{n,k}(x_1, ..., x_{n-k+1})$."
   ]
  },
  {
   "cell_type": "code",
   "execution_count": 17,
   "metadata": {},
   "outputs": [],
   "source": [
    "pbc = my_partial_bell.compute(x)"
   ]
  },
  {
   "cell_type": "markdown",
   "metadata": {},
   "source": [
    "Check the results by noting that the complete Bell polynomials $B_n$ are given by $B_n(x_1, ..., x_n) = \\sum_{k=1}^n B_{n,k}(x_1, ..., x_{n-k+1})$.  We note that $B_{0,0} = 1$ but $B_{n,0} = 0$ for $n > 0$."
   ]
  },
  {
   "cell_type": "code",
   "execution_count": 18,
   "metadata": {},
   "outputs": [
    {
     "name": "stdout",
     "output_type": "stream",
     "text": [
      "n = 0, x[n] = 0.000000e+00, bc[n] = 1.000000e+00, bn = 1.000000e+00\n",
      "n = 1, x[n] = 1.072257e+00, bc[n] = 1.072257e+00, bn = 1.072257e+00\n",
      "n = 2, x[n] = 2.279357e+00, bc[n] = 3.429091e+00, bn = 3.429091e+00\n",
      "n = 3, x[n] = 8.367072e-01, bc[n] = 9.401685e+00, bn = 9.401685e+00\n",
      "n = 4, x[n] = -2.941653e+01, bc[n] = 6.804352e+00, bn = 6.804352e+00\n",
      "n = 5, x[n] = 2.035793e+01, bc[n] = 4.419698e+00, bn = 4.419698e+00\n"
     ]
    }
   ],
   "source": [
    "for n in range(len(x)):\n",
    "    bn = 0\n",
    "    for k in range(0, n+1):\n",
    "        bn += pbc[n, k]\n",
    "    print(\n",
    "        \"n = {:d}, x[n] = {:.6e}, bc[n] = {:.6e}, bn = {:.6e}\".format(\n",
    "            n, x[n], bc[n], bn\n",
    "        )\n",
    "    )"
   ]
  },
  {
   "cell_type": "markdown",
   "metadata": {},
   "source": [
    "As a final exercise, we invert the partial Bell polynomials and check we get the input *x*'s."
   ]
  },
  {
   "cell_type": "code",
   "execution_count": 19,
   "metadata": {},
   "outputs": [
    {
     "name": "stdout",
     "output_type": "stream",
     "text": [
      "n = 0, x[n] = 0.000000e+00, pbc[n,1] = 0.000000e+00\n",
      "n = 1, x[n] = 1.072257e+00, pbc[n,1] = 1.072257e+00\n",
      "n = 2, x[n] = 2.279357e+00, pbc[n,1] = 2.279357e+00\n",
      "n = 3, x[n] = 8.367072e-01, pbc[n,1] = 8.367072e-01\n",
      "n = 4, x[n] = -2.941653e+01, pbc[n,1] = -2.941653e+01\n",
      "n = 5, x[n] = 2.035793e+01, pbc[n,1] = 2.035793e+01\n"
     ]
    }
   ],
   "source": [
    "xc = my_partial_bell.invert(pbc)\n",
    "for n in range(len(x)):\n",
    "    print(f\"n = {:d}, x[n] = {x[n]:.6e}, xc[n] = {xc[n]:.6e}\".format(n, x[n], pbc[n, 1]))"
   ]
  },
  {
   "cell_type": "code",
   "execution_count": null,
   "metadata": {},
   "outputs": [],
   "source": []
  }
 ],
 "metadata": {
  "kernelspec": {
   "display_name": "Python 3 (ipykernel)",
   "language": "python",
   "name": "python3"
  },
  "language_info": {
   "codemirror_mode": {
    "name": "ipython",
    "version": 3
   },
   "file_extension": ".py",
   "mimetype": "text/x-python",
   "name": "python",
   "nbconvert_exporter": "python",
   "pygments_lexer": "ipython3",
   "version": "3.13.2"
  }
 },
 "nbformat": 4,
 "nbformat_minor": 4
}
