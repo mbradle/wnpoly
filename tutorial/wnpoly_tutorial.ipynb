{
 "cells": [
  {
   "cell_type": "markdown",
   "metadata": {},
   "source": [
    "The aim of this notebook is to illustrate the usage of *wnpoly*.  Begin by installing the package."
   ]
  },
  {
   "cell_type": "code",
   "execution_count": 1,
   "metadata": {},
   "outputs": [],
   "source": [
    "import sys\n",
    "!{sys.executable} -m pip install --quiet wnpoly"
   ]
  },
  {
   "cell_type": "markdown",
   "metadata": {},
   "source": [
    "Next import the packages."
   ]
  },
  {
   "cell_type": "code",
   "execution_count": 2,
   "metadata": {},
   "outputs": [],
   "source": [
    "import numpy as np\n",
    "import wnpoly as wp"
   ]
  },
  {
   "cell_type": "markdown",
   "metadata": {},
   "source": [
    "*wnpoly* currently has two modules.  The first handles [Symmetric polynomials](#symmetric), which are polynomials that remain unchanged under exchange of any variables.  This [Wikipedia page](https://en.wikipedia.org/wiki/Symmetric_polynomial) provides an introduction.  The second handles [Bell polynomials](#bell), which appear particularly in problems involving [set partitions](https://en.wikipedia.org/wiki/Bell_polynomials)."
   ]
  },
  {
   "cell_type": "markdown",
   "metadata": {},
   "source": [
    "<a id='symmetric'></a>\n",
    "# Symmetric polynomials"
   ]
  },
  {
   "cell_type": "markdown",
   "metadata": {},
   "source": [
    "This section illustrates *wnpoly's* symmetric polynomial classes, which include [complete homogeneous symmetric](https://en.wikipedia.org/wiki/Complete_homogeneous_symmetric_polynomial), [elementary homogeneous symmetric](https://en.wikipedia.org/wiki/Elementary_symmetric_polynomial), and [power sum symmetric](https://en.wikipedia.org/wiki/Power_sum_symmetric_polynomial) polynomials.\n",
    "\n",
    "Begin by creating instances of each class."
   ]
  },
  {
   "cell_type": "code",
   "execution_count": 3,
   "metadata": {},
   "outputs": [],
   "source": [
    "chsp = wp.symm.Complete()\n",
    "ehsp = wp.symm.Elementary()\n",
    "pssp = wp.symm.PowerSum()"
   ]
  },
  {
   "cell_type": "markdown",
   "metadata": {},
   "source": [
    "Now create a set of variables *x*.  Here we choose a set of ten randomly chosen integers between 1 and 10.  By definition, *x[0]* should equal 0, so we insert that at the beginning of the array; thus, the array has 11 elements with index ranging from 0 to 10.  In fact, the *wnpoly* routines do not use *x[0]* in computations but rather use it as a placeholder to allow the index of the array to correspond to the expected *x* or polynomial."
   ]
  },
  {
   "cell_type": "code",
   "execution_count": 4,
   "metadata": {},
   "outputs": [],
   "source": [
    "n = 10\n",
    "x = np.random.default_rng().integers(1, high=10, size=n)"
   ]
  },
  {
   "cell_type": "markdown",
   "metadata": {},
   "source": [
    "Now compute the corresponding set of polynomials of the various types up to order *n*."
   ]
  },
  {
   "cell_type": "code",
   "execution_count": 5,
   "metadata": {},
   "outputs": [],
   "source": [
    "h = chsp.compute(x, n)\n",
    "e = ehsp.compute(x, n)\n",
    "p = pssp.compute(x, n)"
   ]
  },
  {
   "cell_type": "markdown",
   "metadata": {},
   "source": [
    "Print out the values and the *x*'s.  Insert an extra zero at the beginning of the *x* array to align with the polynomials in the printout."
   ]
  },
  {
   "cell_type": "code",
   "execution_count": 6,
   "metadata": {},
   "outputs": [
    {
     "name": "stdout",
     "output_type": "stream",
     "text": [
      "n = 0, x[n] = 0, h[n] = 1, e[n] = 1, p[n] = 1\n",
      "n = 1, x[n] = 6, h[n] = 47, e[n] = 47, p[n] = 47\n",
      "n = 2, x[n] = 9, h[n] = 1245, e[n] = 964, p[n] = 281\n",
      "n = 3, x[n] = 3, h[n] = 24561, e[n] = 11354, p[n] = 1961\n",
      "n = 4, x[n] = 7, h[n] = 402816, e[n] = 85009, p[n] = 14885\n",
      "n = 5, x[n] = 2, h[n] = 5818650, e[n] = 422795, p[n] = 118217\n",
      "n = 6, x[n] = 8, h[n] = 76647382, e[n] = 1415298, p[n] = 964301\n",
      "n = 7, x[n] = 2, h[n] = 941927054, e[n] = 3151116, p[n] = 8006801\n",
      "n = 8, x[n] = 3, h[n] = 10970316363, e[n] = 4470120, p[n] = 67354085\n",
      "n = 9, x[n] = 4, h[n] = 122468098833, e[n] = 3652128, p[n] = 572391737\n",
      "n = 10, x[n] = 3, h[n] = 1321529197803, e[n] = 1306368, p[n] = 4904695421\n"
     ]
    }
   ],
   "source": [
    "x = np.insert(x, 0, 0)\n",
    "\n",
    "for n in range(len(x)):\n",
    "    print(f\"n = {n:d}, x[n] = {x[n]:d}, h[n] = {h[n]:d}, e[n] = {e[n]:d}, p[n] = {p[n]:d}\")"
   ]
  },
  {
   "cell_type": "markdown",
   "metadata": {},
   "source": [
    "We can now check some of [Newton's identities](https://en.wikipedia.org/wiki/Newton%27s_identities).  The first we will check relates the complete and elementary polynomials such that $d_n = \\sum_{k = 0}^n (-1)^k h_{n-k}(x_1, ..., x_n) e_k(x_1, ..., x_n) = 0$."
   ]
  },
  {
   "cell_type": "code",
   "execution_count": 7,
   "metadata": {},
   "outputs": [
    {
     "name": "stdout",
     "output_type": "stream",
     "text": [
      "n = 1, d[n] = 0\n",
      "n = 2, d[n] = 0\n",
      "n = 3, d[n] = 0\n",
      "n = 4, d[n] = 0\n",
      "n = 5, d[n] = 0\n",
      "n = 6, d[n] = 0\n",
      "n = 7, d[n] = 0\n",
      "n = 8, d[n] = 0\n",
      "n = 9, d[n] = 0\n",
      "n = 10, d[n] = 0\n"
     ]
    }
   ],
   "source": [
    "for n in range(1, len(x)):\n",
    "    d = 0\n",
    "    for k in range(n+1):\n",
    "        d += np.power(-1, k) * h[n-k] * e[k]\n",
    "    print(f\"n = {n:d}, d[n] = {d:d}\")"
   ]
  },
  {
   "cell_type": "markdown",
   "metadata": {},
   "source": [
    "Now we check an identity relating the complete homogeneous symmetric and power sum symmetric polynomials, namely, that $nh_n = \\sum_{k=1}^n h_{n-k} p_k$."
   ]
  },
  {
   "cell_type": "code",
   "execution_count": 8,
   "metadata": {},
   "outputs": [
    {
     "name": "stdout",
     "output_type": "stream",
     "text": [
      "n = 1, n*h[n] = 47, sum = 47, difference = 0\n",
      "n = 2, n*h[n] = 2490, sum = 2490, difference = 0\n",
      "n = 3, n*h[n] = 73683, sum = 73683, difference = 0\n",
      "n = 4, n*h[n] = 1611264, sum = 1611264, difference = 0\n",
      "n = 5, n*h[n] = 29093250, sum = 29093250, difference = 0\n",
      "n = 6, n*h[n] = 459884292, sum = 459884292, difference = 0\n",
      "n = 7, n*h[n] = 6593489378, sum = 6593489378, difference = 0\n",
      "n = 8, n*h[n] = 87762530904, sum = 87762530904, difference = 0\n",
      "n = 9, n*h[n] = 1102212889497, sum = 1102212889497, difference = 0\n",
      "n = 10, n*h[n] = 13215291978030, sum = 13215291978030, difference = 0\n"
     ]
    }
   ],
   "source": [
    "for n in range(1, len(x)):\n",
    "    sum = 0\n",
    "    for k in range(1, n+1):\n",
    "        sum += h[n-k] * p[k]\n",
    "    print(f\"n = {n:d}, n*h[n] = {n*h[n]:d}, sum = {sum:d}, difference = {n*h[n] - sum:d}\")"
   ]
  },
  {
   "cell_type": "markdown",
   "metadata": {},
   "source": [
    "Finally, we will check the identity that $n e_n = \\sum_{k=1}^n (-1)^{k-1} e_{n-k} p_k$."
   ]
  },
  {
   "cell_type": "code",
   "execution_count": 9,
   "metadata": {},
   "outputs": [
    {
     "name": "stdout",
     "output_type": "stream",
     "text": [
      "n = 1, n*e[n] = 47, sum = 47, difference = 0\n",
      "n = 2, n*e[n] = 1928, sum = 1928, difference = 0\n",
      "n = 3, n*e[n] = 34062, sum = 34062, difference = 0\n",
      "n = 4, n*e[n] = 340036, sum = 340036, difference = 0\n",
      "n = 5, n*e[n] = 2113975, sum = 2113975, difference = 0\n",
      "n = 6, n*e[n] = 8491788, sum = 8491788, difference = 0\n",
      "n = 7, n*e[n] = 22057812, sum = 22057812, difference = 0\n",
      "n = 8, n*e[n] = 35760960, sum = 35760960, difference = 0\n",
      "n = 9, n*e[n] = 32869152, sum = 32869152, difference = 0\n",
      "n = 10, n*e[n] = 13063680, sum = 13063680, difference = 0\n"
     ]
    }
   ],
   "source": [
    "for n in range(1, len(x)):\n",
    "    sum = 0\n",
    "    for k in range(1, n+1):\n",
    "        sum += np.power(-1, k-1) * e[n-k] * p[k]\n",
    "    print(f\"n = {n:d}, n*e[n] = {n*e[n]:d}, sum = {sum:d}, difference = {n*e[n]-sum:d}\")"
   ]
  },
  {
   "cell_type": "markdown",
   "metadata": {},
   "source": [
    "It is also possible to compute the symmetric polynomials normalized by the number of terms in each polynomial.  Here one should not use integers but rather floats or similar type.  "
   ]
  },
  {
   "cell_type": "code",
   "execution_count": 10,
   "metadata": {},
   "outputs": [],
   "source": [
    "n = 5\n",
    "x = np.random.default_rng().uniform(0.0, 10.0, size=n)"
   ]
  },
  {
   "cell_type": "markdown",
   "metadata": {},
   "source": [
    "Now compute and print out the normalized polynomials.  Again insert a zero at the beginning of *x* to align the *x*'s with the polynomials in the printout."
   ]
  },
  {
   "cell_type": "code",
   "execution_count": 11,
   "metadata": {},
   "outputs": [
    {
     "name": "stdout",
     "output_type": "stream",
     "text": [
      "n = 0, x[n] = 0.0000, h_norm[n] = 1.0000, e_norm[n] = 1.0000, p_norm[n] = 1.0000\n",
      "n = 1, x[n] = 2.1094, h_norm[n] = 4.3926, e_norm[n] = 4.3926, p_norm[n] = 4.3926\n",
      "n = 2, x[n] = 5.7584, h_norm[n] = 20.5036, e_norm[n] = 17.4826, p_norm[n] = 26.5457\n",
      "n = 3, x[n] = 0.9797, h_norm[n] = 100.9110, e_norm[n] = 61.6744, p_norm[n] = 185.1306\n",
      "n = 4, x[n] = 8.5765, h_norm[n] = 520.2794, e_norm[n] = 185.8074, p_norm[n] = 1391.0728\n",
      "n = 5, x[n] = 4.5391, h_norm[n] = 2794.9628, e_norm[n] = 463.2877, p_norm[n] = 10941.0808\n"
     ]
    }
   ],
   "source": [
    "h_norm = chsp.compute_normalized(x, n)\n",
    "e_norm = ehsp.compute_normalized(x, n)\n",
    "p_norm = pssp.compute_normalized(x, n)\n",
    "\n",
    "x = np.insert(x, 0, 0.)\n",
    "\n",
    "for n in range(len(x)):\n",
    "    print(f\"n = {n:d}, x[n] = {x[n]:.4f}, h_norm[n] = {h_norm[n]:.4f}, e_norm[n] = {e_norm[n]:.4f}, p_norm[n] = {p_norm[n]:.4f}\")"
   ]
  },
  {
   "cell_type": "markdown",
   "metadata": {},
   "source": [
    "<a id='bell'></a>\n",
    "# Bell polynomials"
   ]
  },
  {
   "cell_type": "markdown",
   "metadata": {},
   "source": [
    "This section illustrates *wnpoly's* Bell polynomial module.  The module has a class for complete and partial Bell polynomials."
   ]
  },
  {
   "cell_type": "markdown",
   "metadata": {},
   "source": [
    "Begin by creating an instance of the Bell polynomial class."
   ]
  },
  {
   "cell_type": "code",
   "execution_count": 12,
   "metadata": {},
   "outputs": [],
   "source": [
    "my_bell = wp.bell.Bell()"
   ]
  },
  {
   "cell_type": "markdown",
   "metadata": {},
   "source": [
    "Now generate some Bell polynomials.  By definition, $B_0 = 1$, so insert that."
   ]
  },
  {
   "cell_type": "code",
   "execution_count": 13,
   "metadata": {},
   "outputs": [],
   "source": [
    "n = 5\n",
    "b = np.random.default_rng().uniform(low=1, high=10, size=n)\n",
    "b = np.insert(b, 0, 1.)"
   ]
  },
  {
   "cell_type": "markdown",
   "metadata": {},
   "source": [
    "Now invert the Bell polynomials to find the *x's* that would give rise to those Bell polynomials."
   ]
  },
  {
   "cell_type": "code",
   "execution_count": 14,
   "metadata": {},
   "outputs": [],
   "source": [
    "x = my_bell.invert(b)"
   ]
  },
  {
   "cell_type": "markdown",
   "metadata": {},
   "source": [
    "Compute the Bell polynomials from those *x's* and use them to compute the Bell polynomials.  Compare the computed polynomials to the original ones."
   ]
  },
  {
   "cell_type": "code",
   "execution_count": 15,
   "metadata": {},
   "outputs": [
    {
     "name": "stdout",
     "output_type": "stream",
     "text": [
      "n = 0, x[n] = 0.000000e+00, b[n] = 1.000000e+00, bc[n] = 1.000000e+00\n",
      "n = 1, x[n] = 1.452181e+00, b[n] = 1.452181e+00, bc[n] = 1.452181e+00\n",
      "n = 2, x[n] = 1.018337e-01, b[n] = 2.210663e+00, bc[n] = 2.210663e+00\n",
      "n = 3, x[n] = 1.946534e+00, b[n] = 5.452580e+00, bc[n] = 5.452580e+00\n",
      "n = 4, x[n] = -9.208875e+00, b[n] = 7.864778e+00, bc[n] = 7.864778e+00\n",
      "n = 5, x[n] = 1.998549e+01, b[n] = 5.954568e+00, bc[n] = 5.954568e+00\n"
     ]
    }
   ],
   "source": [
    "bc = my_bell.compute(x)\n",
    "\n",
    "for n in range(len(x)):\n",
    "    print(f\"n = {n:d}, x[n] = {x[n]:.6e}, b[n] = {b[n]:.6e}, bc[n] = {bc[n]:.6e}\")"
   ]
  },
  {
   "cell_type": "markdown",
   "metadata": {},
   "source": [
    "Now we study the partial Bell polynomial class.  First create an instance."
   ]
  },
  {
   "cell_type": "code",
   "execution_count": 16,
   "metadata": {},
   "outputs": [],
   "source": [
    "my_partial_bell = wp.bell.PartialBell()"
   ]
  },
  {
   "cell_type": "markdown",
   "metadata": {},
   "source": [
    "Now compute the partial Bell polynomials from the *x's* above.  The return is a two-dimensional array with the indices *n* and *k* giving $B_{n,k}(x_1, ..., x_{n-k+1})$."
   ]
  },
  {
   "cell_type": "code",
   "execution_count": 17,
   "metadata": {},
   "outputs": [],
   "source": [
    "pbc = my_partial_bell.compute(x)"
   ]
  },
  {
   "cell_type": "markdown",
   "metadata": {},
   "source": [
    "Check the results by noting that the complete Bell polynomials $B_n$ are given by $B_n(x_1, ..., x_n) = \\sum_{k=1}^n B_{n,k}(x_1, ..., x_{n-k+1})$.  We note that $B_{0,0} = 1$ but $B_{n,0} = 0$ for $n > 0$."
   ]
  },
  {
   "cell_type": "code",
   "execution_count": 18,
   "metadata": {},
   "outputs": [
    {
     "name": "stdout",
     "output_type": "stream",
     "text": [
      "n = 0, x[n] = 0.000000e+00, bc[n] = 1.000000e+00, bn = 1.000000e+00\n",
      "n = 1, x[n] = 1.452181e+00, bc[n] = 1.452181e+00, bn = 1.452181e+00\n",
      "n = 2, x[n] = 1.018337e-01, bc[n] = 2.210663e+00, bn = 2.210663e+00\n",
      "n = 3, x[n] = 1.946534e+00, bc[n] = 5.452580e+00, bn = 5.452580e+00\n",
      "n = 4, x[n] = -9.208875e+00, bc[n] = 7.864778e+00, bn = 7.864778e+00\n",
      "n = 5, x[n] = 1.998549e+01, bc[n] = 5.954568e+00, bn = 5.954568e+00\n"
     ]
    }
   ],
   "source": [
    "for n in range(len(x)):\n",
    "    bn = 0\n",
    "    for k in range(0, n+1):\n",
    "        bn += pbc[n, k]\n",
    "    print(f\"n = {n:d}, x[n] = {x[n]:.6e}, bc[n] = {bc[n]:.6e}, bn = {bn:.6e}\")"
   ]
  },
  {
   "cell_type": "markdown",
   "metadata": {},
   "source": [
    "As a final exercise, we invert the partial Bell polynomials and check we get the input *x*'s."
   ]
  },
  {
   "cell_type": "code",
   "execution_count": 19,
   "metadata": {},
   "outputs": [
    {
     "name": "stdout",
     "output_type": "stream",
     "text": [
      "n = 0, x[n] = 0.000000e+00, xc[n] = 0.000000e+00\n",
      "n = 1, x[n] = 1.452181e+00, xc[n] = 1.452181e+00\n",
      "n = 2, x[n] = 1.018337e-01, xc[n] = 1.018337e-01\n",
      "n = 3, x[n] = 1.946534e+00, xc[n] = 1.946534e+00\n",
      "n = 4, x[n] = -9.208875e+00, xc[n] = -9.208875e+00\n",
      "n = 5, x[n] = 1.998549e+01, xc[n] = 1.998549e+01\n"
     ]
    }
   ],
   "source": [
    "xc = my_partial_bell.invert(pbc)\n",
    "for n in range(len(x)):\n",
    "    print(f\"n = {n:d}, x[n] = {x[n]:.6e}, xc[n] = {xc[n]:.6e}\")"
   ]
  },
  {
   "cell_type": "code",
   "execution_count": null,
   "metadata": {},
   "outputs": [],
   "source": []
  }
 ],
 "metadata": {
  "kernelspec": {
   "display_name": "Python 3 (ipykernel)",
   "language": "python",
   "name": "python3"
  },
  "language_info": {
   "codemirror_mode": {
    "name": "ipython",
    "version": 3
   },
   "file_extension": ".py",
   "mimetype": "text/x-python",
   "name": "python",
   "nbconvert_exporter": "python",
   "pygments_lexer": "ipython3",
   "version": "3.13.2"
  }
 },
 "nbformat": 4,
 "nbformat_minor": 4
}
